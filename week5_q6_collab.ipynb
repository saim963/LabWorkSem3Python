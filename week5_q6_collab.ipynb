{
  "nbformat": 4,
  "nbformat_minor": 0,
  "metadata": {
    "colab": {
      "provenance": [],
      "authorship_tag": "ABX9TyNY3zre965lbjbGiY1IE5EA",
      "include_colab_link": true
    },
    "kernelspec": {
      "name": "python3",
      "display_name": "Python 3"
    },
    "language_info": {
      "name": "python"
    }
  },
  "cells": [
    {
      "cell_type": "markdown",
      "metadata": {
        "id": "view-in-github",
        "colab_type": "text"
      },
      "source": [
        "<a href=\"https://colab.research.google.com/github/saim963/LabWorkSem3Python/blob/main/week5_q5_collab.ipynb\" target=\"_parent\"><img src=\"https://colab.research.google.com/assets/colab-badge.svg\" alt=\"Open In Colab\"/></a>"
      ]
    },
    {
      "cell_type": "markdown",
      "source": [
        "### 6- Write a create a numpy array and sort as per cases:\n",
        "######a. Case1: Sort the array by the second row.\n",
        "######b. Case2: Sort the array by the second column."
      ],
      "metadata": {
        "id": "eBOBsXe3MRrI"
      }
    },
    {
      "cell_type": "code",
      "execution_count": null,
      "metadata": {
        "id": "QUabkkVNBX8v",
        "colab": {
          "base_uri": "https://localhost:8080/"
        },
        "outputId": "88116b36-aa5c-4d5e-ece2-ab72c058d2a2"
      },
      "outputs": [
        {
          "output_type": "stream",
          "name": "stdout",
          "text": [
            "Original Array: \n",
            "[[8 5 7 5 1]\n",
            " [8 4 3 5 9]\n",
            " [1 2 7 9 7]\n",
            " [9 8 6 1 1]\n",
            " [8 6 8 3 4]]\n",
            "Case1: 2nd row sort\n",
            "[[7 5 5 8 1]\n",
            " [3 4 5 8 9]\n",
            " [7 2 9 1 7]\n",
            " [6 8 1 9 1]\n",
            " [8 6 3 8 4]]\n",
            "Case1: 2nd col sort\n",
            "[[1 2 7 9 7]\n",
            " [8 4 3 5 9]\n",
            " [8 5 7 5 1]\n",
            " [8 6 8 3 4]\n",
            " [9 8 6 1 1]]\n"
          ]
        }
      ],
      "source": [
        "import numpy as np\n",
        "arr = np.random.randint(1,10,(5,5))\n",
        "print(f'Original Array: \\n{arr}')\n",
        "\n",
        "# sort by 2nd row\n",
        "sort_row = arr[1,:].argsort()\n",
        "sort_arr_r = arr[:,sort_row]\n",
        "\n",
        "print(f'Case1: 2nd row sort\\n{sort_arr_r}')\n",
        "\n",
        "#sort by2nd col\n",
        "sort_col = arr[:,1].argsort()\n",
        "sort_arr_c = arr[sort_col,:]\n",
        "\n",
        "print(f'Case1: 2nd col sort\\n{sort_arr_c}')\n"
      ]
    }
  ]
}
