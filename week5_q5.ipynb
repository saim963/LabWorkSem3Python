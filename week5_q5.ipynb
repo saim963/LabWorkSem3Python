{
  "cells": [
    {
      "cell_type": "markdown",
      "metadata": {
        "colab_type": "text",
        "id": "view-in-github"
      },
      "source": [
        "<a href=\"https://colab.research.google.com/github/saim963/LabWorkSem3Python/blob/main/week5_q5.ipynb\" target=\"_parent\"><img src=\"https://colab.research.google.com/assets/colab-badge.svg\" alt=\"Open In Colab\"/></a>"
      ]
    },
    {
      "cell_type": "markdown",
      "metadata": {
        "id": "dQTBgwR-wzan"
      },
      "source": [
        "### 5. Write a program to create a numpy array and return an array of odd rows and even columns from the numpy array."
      ]
    },
    {
      "cell_type": "code",
      "execution_count": null,
      "metadata": {
        "id": "Fu9Drqn3w4p3"
      },
      "outputs": [],
      "source": [
        "import numpy as np\n",
        "\n",
        "def extract_odd_rows_even_columns():\n",
        "    array = np.array([[1, 2, 3, 4],\n",
        "                      [5, 6, 7, 8],\n",
        "                      [9, 10, 11, 12],\n",
        "                      [13, 14, 15, 16]])\n",
        "\n",
        "    result = array[1::2, ::2]\n",
        "\n",
        "    return result\n",
        "extracted_array = extract_odd_rows_even_columns()\n",
        "print(extracted_array)"
      ]
    }
  ],
  "metadata": {
    "colab": {
      "authorship_tag": "ABX9TyManU/2BkvuKwsnhDw7/upD",
      "include_colab_link": true,
      "provenance": []
    },
    "kernelspec": {
      "display_name": "Python 3",
      "name": "python3"
    },
    "language_info": {
      "name": "python"
    }
  },
  "nbformat": 4,
  "nbformat_minor": 0
}
